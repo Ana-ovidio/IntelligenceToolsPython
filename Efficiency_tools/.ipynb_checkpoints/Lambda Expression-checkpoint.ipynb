{
 "cells": [
  {
   "cell_type": "markdown",
   "id": "0b29d1ae",
   "metadata": {},
   "source": [
    "# **Lambda expression**\n",
    "\n",
    "*Lambda* representa uma função cuja definição não é necessária. \n",
    "\n",
    "Basicamente, seu funcionamento representa operações simples as quais podem otmizar linhas de código e sobrecarga na memória do computador. \n",
    "\n",
    "**Estrutura:**\n",
    "\n",
    "    variável = lambda parâmetro : expressão \n",
    "\n",
    "parâmetro = similar aos parâmetros que passamos em funções definidas. Ou seja, variáveis que iremos utilizar na operação \n",
    "\n",
    "expressão = Uma operação em cima dos parâmetros; representa um retorno. \n",
    "\n",
    "**Observação:** No final, a variável que recebe a função *lambda* tornará- se uma função. \n",
    "\n",
    "Toda vez que variável for chamada, é necessário passar um argumento."
   ]
  },
  {
   "cell_type": "code",
   "execution_count": 1,
   "id": "a039e392",
   "metadata": {},
   "outputs": [
    {
     "data": {
      "text/plain": [
       "110"
      ]
     },
     "execution_count": 1,
     "metadata": {},
     "output_type": "execute_result"
    }
   ],
   "source": [
    "#Função que soma 10 \n",
    "\n",
    "sum_10 = lambda num: num+10\n",
    "sum_10(100)"
   ]
  },
  {
   "cell_type": "markdown",
   "id": "76ec2a29",
   "metadata": {},
   "source": [
    "# **Desafio** \n",
    "\n",
    "Como aplicar a função **lambda** em um conjunto de um **interável**?\n",
    "\n",
    "-----------\n",
    "\n",
    "**Exemplo:** Dado os produtos e seus respectivos preços, atualize tais valores após a aplicação do imposto sobre eles. \n"
   ]
  },
  {
   "cell_type": "code",
   "execution_count": 21,
   "id": "5878f4c5",
   "metadata": {},
   "outputs": [
    {
     "name": "stdout",
     "output_type": "stream",
     "text": [
      "Novos preços utilizando o map + lamba: [4550.0, 5850.0, 2990.0]\n",
      "Novos preços utilizando list comprehension: [4550.0, 5850.0, 2990.0]\n"
     ]
    }
   ],
   "source": [
    "percentage_tax = 0.3\n",
    "\n",
    "price_products = {'notebook': 3500, 'iphone': 4500, 'samsung': 2300}\n",
    "\n",
    "#Aplicação de lambda + map\n",
    "\n",
    "new_prices = list(map(lambda num: num * (1+percentage_tax), price_products.values()))\n",
    "print(f'Novos preços utilizando o map + lamba: {new_prices}')\n",
    "\n",
    "#Aplicação de list comprehension\n",
    "\n",
    "new_prices = [i * (1+percentage_tax) for i in price_products.values()]\n",
    "print(f'Novos preços utilizando list comprehension: {new_prices}')"
   ]
  },
  {
   "cell_type": "code",
   "execution_count": 29,
   "id": "181034e0",
   "metadata": {},
   "outputs": [
    {
     "name": "stdout",
     "output_type": "stream",
     "text": [
      "{'notebook': 4550.0, 'iphone': 5850.0, 'samsung': 2990.0}\n"
     ]
    }
   ],
   "source": [
    "# Retornando ao dicionário: \n",
    "\n",
    "products= list(price_products.keys())\n",
    "\n",
    "new_set_products_price = dict(zip(products,new_prices))\n",
    "print(new_set_products_price)"
   ]
  },
  {
   "cell_type": "markdown",
   "id": "29bc954b",
   "metadata": {},
   "source": [
    "# **Filter()**\n",
    "\n",
    "A função filter é similar à lógica da função map. \n",
    "\n",
    "Para cada elemento de um interável, ele verifica uma condição e é armazanado somente o elemento cuja condição é verdadeira. \n",
    "\n",
    "*filter(função, iterável)*\n",
    "\n",
    "**Observação:** O primeiro argumento da função deve ser uma função ao invés de somente a condição. Tal função pode ser definida, ou podemos utlizar o lambda. \n",
    "\n",
    "---------\n",
    "\n",
    "**Exemplo**: Filtrar os produtos cujos valores são maiores de 3000 reais. \n"
   ]
  },
  {
   "cell_type": "code",
   "execution_count": 48,
   "id": "f23dd6c0",
   "metadata": {},
   "outputs": [
    {
     "name": "stdout",
     "output_type": "stream",
     "text": [
      "Valores filtrados: [4550.0, 5850.0]\n",
      "\n",
      "Produtos e  preços que respeitam a condição de valores acima de 3000 reais:{'notebook': 4550.0, 'iphone': 5850.0}\n"
     ]
    }
   ],
   "source": [
    "filter_price = list(filter(lambda num: num>3000, new_set_products_price.values()))\n",
    "print(f'Valores filtrados: {filter_price}')\n",
    "\n",
    "# Convertendo para um dicionário\n",
    "\n",
    "filter_keys = [key for i,key in enumerate(list(new_set_products_price.keys())) \n",
    "                                          if list(new_set_products_price.values())[i] in filter_price]\n",
    "\n",
    "products_price_filter = dict(zip(filter_keys, filter_price))\n",
    "print(f'\\nProdutos e  preços que respeitam a condição de valores acima de 3000 reais:{products_price_filter}')"
   ]
  },
  {
   "cell_type": "markdown",
   "id": "733e25e4",
   "metadata": {},
   "source": [
    "# **Uso de Lambda expression para gerar novas funções**\n",
    "\n",
    "Qual a necessidade disso? Ao ínves de criar mais de uma função com as mesmas operações, podemos criar uma função geral e o que vai mudar será as variáveis que irão receber o retorno. \n",
    "\n",
    "**Observação:** Se a função geral definida retorna uma função *lambda*, automaticamente a variável que chama tal função definida tornará- se uma função associada à *lambda*\n",
    "\n",
    "---------\n",
    "\n",
    "**Exemplo:** De acordo com a catergoria de um serviço, aplica- se um tributo nele.\n",
    "\n",
    "        - Produto: 0.1\n",
    "        - Serviço geral: 0.15\n",
    "        - Royalties: 0.25\n",
    " "
   ]
  },
  {
   "cell_type": "markdown",
   "id": "cf2f7493",
   "metadata": {},
   "source": [
    "Jeito que envolve mais trabalho e gasto de memória:\n",
    "\n",
    "    def tax_product (value):\n",
    "        return value * 1.1\n",
    "    def tax_general_service (value):\n",
    "        return value * 1.15\n",
    "    def tax_royalties (value):\n",
    "        return value * 1.25\n",
    "\n",
    "De acordo com a demanda do cliente, vamos chamando uma determinada função. "
   ]
  },
  {
   "cell_type": "code",
   "execution_count": 68,
   "id": "405429a3",
   "metadata": {},
   "outputs": [],
   "source": [
    "# Aplicação eficiente com o lambda \n",
    "\n",
    "def tax (percentage):\n",
    "    return lambda value: value * (1+percentage)\n",
    "\n",
    "tax_product = tax(0.1)\n",
    "tax_general_service = tax(0.15)\n",
    "tax_royalties = tax(0.25)"
   ]
  },
  {
   "cell_type": "markdown",
   "id": "6ba8956e",
   "metadata": {},
   "source": [
    "### **Explicando o funcionamento acima**\n",
    "\n",
    "Temos uma função definida chamada *tax* cujo parâmetro é a porcentagem do tributo a ser aplicado em uma determinado valor.\n",
    "\n",
    "***Qual valor é este?***\n",
    "\n",
    "O valor é definido quando chamamos as variáveis que chamam a função *tax*. Afinal, tais variáveis são novas funçãoes associadas ao retorno da função *tax*, uma fez que esse retorno é uma função lambda que necessita de uma variável *value* como parâmetro \n"
   ]
  },
  {
   "cell_type": "code",
   "execution_count": 75,
   "id": "52c2fdff",
   "metadata": {},
   "outputs": [
    {
     "data": {
      "text/html": [
       "<div>\n",
       "<style scoped>\n",
       "    .dataframe tbody tr th:only-of-type {\n",
       "        vertical-align: middle;\n",
       "    }\n",
       "\n",
       "    .dataframe tbody tr th {\n",
       "        vertical-align: top;\n",
       "    }\n",
       "\n",
       "    .dataframe thead th {\n",
       "        text-align: right;\n",
       "    }\n",
       "</style>\n",
       "<table border=\"1\" class=\"dataframe\">\n",
       "  <thead>\n",
       "    <tr style=\"text-align: right;\">\n",
       "      <th></th>\n",
       "      <th>Products</th>\n",
       "      <th>General Sevice</th>\n",
       "      <th>Royalties</th>\n",
       "    </tr>\n",
       "  </thead>\n",
       "  <tbody>\n",
       "    <tr>\n",
       "      <th>2022-01-21</th>\n",
       "      <td>0.136413</td>\n",
       "      <td>0.865834</td>\n",
       "      <td>0.338208</td>\n",
       "    </tr>\n",
       "    <tr>\n",
       "      <th>2022-01-22</th>\n",
       "      <td>0.290082</td>\n",
       "      <td>0.670596</td>\n",
       "      <td>0.068238</td>\n",
       "    </tr>\n",
       "    <tr>\n",
       "      <th>2022-01-23</th>\n",
       "      <td>0.283885</td>\n",
       "      <td>0.494058</td>\n",
       "      <td>0.587227</td>\n",
       "    </tr>\n",
       "    <tr>\n",
       "      <th>2022-01-24</th>\n",
       "      <td>0.002564</td>\n",
       "      <td>0.865080</td>\n",
       "      <td>0.899665</td>\n",
       "    </tr>\n",
       "    <tr>\n",
       "      <th>2022-01-25</th>\n",
       "      <td>0.621743</td>\n",
       "      <td>0.391683</td>\n",
       "      <td>0.758873</td>\n",
       "    </tr>\n",
       "    <tr>\n",
       "      <th>...</th>\n",
       "      <td>...</td>\n",
       "      <td>...</td>\n",
       "      <td>...</td>\n",
       "    </tr>\n",
       "    <tr>\n",
       "      <th>2022-04-26</th>\n",
       "      <td>0.149890</td>\n",
       "      <td>0.733500</td>\n",
       "      <td>0.659331</td>\n",
       "    </tr>\n",
       "    <tr>\n",
       "      <th>2022-04-27</th>\n",
       "      <td>0.108880</td>\n",
       "      <td>0.484341</td>\n",
       "      <td>0.754173</td>\n",
       "    </tr>\n",
       "    <tr>\n",
       "      <th>2022-04-28</th>\n",
       "      <td>0.262430</td>\n",
       "      <td>0.833395</td>\n",
       "      <td>0.154792</td>\n",
       "    </tr>\n",
       "    <tr>\n",
       "      <th>2022-04-29</th>\n",
       "      <td>0.063013</td>\n",
       "      <td>0.476671</td>\n",
       "      <td>0.255583</td>\n",
       "    </tr>\n",
       "    <tr>\n",
       "      <th>2022-04-30</th>\n",
       "      <td>0.681697</td>\n",
       "      <td>0.324926</td>\n",
       "      <td>0.248100</td>\n",
       "    </tr>\n",
       "  </tbody>\n",
       "</table>\n",
       "<p>100 rows × 3 columns</p>\n",
       "</div>"
      ],
      "text/plain": [
       "            Products  General Sevice  Royalties\n",
       "2022-01-21  0.136413        0.865834   0.338208\n",
       "2022-01-22  0.290082        0.670596   0.068238\n",
       "2022-01-23  0.283885        0.494058   0.587227\n",
       "2022-01-24  0.002564        0.865080   0.899665\n",
       "2022-01-25  0.621743        0.391683   0.758873\n",
       "...              ...             ...        ...\n",
       "2022-04-26  0.149890        0.733500   0.659331\n",
       "2022-04-27  0.108880        0.484341   0.754173\n",
       "2022-04-28  0.262430        0.833395   0.154792\n",
       "2022-04-29  0.063013        0.476671   0.255583\n",
       "2022-04-30  0.681697        0.324926   0.248100\n",
       "\n",
       "[100 rows x 3 columns]"
      ]
     },
     "metadata": {},
     "output_type": "display_data"
    }
   ],
   "source": [
    "import pandas as pd \n",
    "import numpy as np \n",
    "from datetime import datetime \n",
    "\n",
    "current_day = datetime.now().strftime('%Y%m%d')\n",
    "date = pd.date_range(current_day, periods=100, freq = 'D')\n",
    "\n",
    "price_services = {'Products': np.random.rand(100), \n",
    "                  'General Sevice': np.random.rand(100), \n",
    "                  'Royalties': np.random.rand(100)}\n",
    "\n",
    "frame_price_services = pd.DataFrame(price_services, index=date)\n",
    "\n",
    "display(frame_price_services)"
   ]
  },
  {
   "cell_type": "code",
   "execution_count": 79,
   "id": "72580a0e",
   "metadata": {},
   "outputs": [
    {
     "data": {
      "text/html": [
       "<div>\n",
       "<style scoped>\n",
       "    .dataframe tbody tr th:only-of-type {\n",
       "        vertical-align: middle;\n",
       "    }\n",
       "\n",
       "    .dataframe tbody tr th {\n",
       "        vertical-align: top;\n",
       "    }\n",
       "\n",
       "    .dataframe thead th {\n",
       "        text-align: right;\n",
       "    }\n",
       "</style>\n",
       "<table border=\"1\" class=\"dataframe\">\n",
       "  <thead>\n",
       "    <tr style=\"text-align: right;\">\n",
       "      <th></th>\n",
       "      <th>Products</th>\n",
       "      <th>General Sevice</th>\n",
       "      <th>Royalties</th>\n",
       "    </tr>\n",
       "  </thead>\n",
       "  <tbody>\n",
       "    <tr>\n",
       "      <th>2022-01-21</th>\n",
       "      <td>0.165060</td>\n",
       "      <td>0.995709</td>\n",
       "      <td>0.422760</td>\n",
       "    </tr>\n",
       "    <tr>\n",
       "      <th>2022-01-22</th>\n",
       "      <td>0.351000</td>\n",
       "      <td>0.771185</td>\n",
       "      <td>0.085297</td>\n",
       "    </tr>\n",
       "    <tr>\n",
       "      <th>2022-01-23</th>\n",
       "      <td>0.343501</td>\n",
       "      <td>0.568167</td>\n",
       "      <td>0.734034</td>\n",
       "    </tr>\n",
       "    <tr>\n",
       "      <th>2022-01-24</th>\n",
       "      <td>0.003103</td>\n",
       "      <td>0.994842</td>\n",
       "      <td>1.124581</td>\n",
       "    </tr>\n",
       "    <tr>\n",
       "      <th>2022-01-25</th>\n",
       "      <td>0.752309</td>\n",
       "      <td>0.450436</td>\n",
       "      <td>0.948591</td>\n",
       "    </tr>\n",
       "    <tr>\n",
       "      <th>...</th>\n",
       "      <td>...</td>\n",
       "      <td>...</td>\n",
       "      <td>...</td>\n",
       "    </tr>\n",
       "    <tr>\n",
       "      <th>2022-04-26</th>\n",
       "      <td>0.181367</td>\n",
       "      <td>0.843526</td>\n",
       "      <td>0.824164</td>\n",
       "    </tr>\n",
       "    <tr>\n",
       "      <th>2022-04-27</th>\n",
       "      <td>0.131745</td>\n",
       "      <td>0.556992</td>\n",
       "      <td>0.942716</td>\n",
       "    </tr>\n",
       "    <tr>\n",
       "      <th>2022-04-28</th>\n",
       "      <td>0.317541</td>\n",
       "      <td>0.958404</td>\n",
       "      <td>0.193490</td>\n",
       "    </tr>\n",
       "    <tr>\n",
       "      <th>2022-04-29</th>\n",
       "      <td>0.076246</td>\n",
       "      <td>0.548172</td>\n",
       "      <td>0.319479</td>\n",
       "    </tr>\n",
       "    <tr>\n",
       "      <th>2022-04-30</th>\n",
       "      <td>0.824853</td>\n",
       "      <td>0.373665</td>\n",
       "      <td>0.310125</td>\n",
       "    </tr>\n",
       "  </tbody>\n",
       "</table>\n",
       "<p>100 rows × 3 columns</p>\n",
       "</div>"
      ],
      "text/plain": [
       "            Products  General Sevice  Royalties\n",
       "2022-01-21  0.165060        0.995709   0.422760\n",
       "2022-01-22  0.351000        0.771185   0.085297\n",
       "2022-01-23  0.343501        0.568167   0.734034\n",
       "2022-01-24  0.003103        0.994842   1.124581\n",
       "2022-01-25  0.752309        0.450436   0.948591\n",
       "...              ...             ...        ...\n",
       "2022-04-26  0.181367        0.843526   0.824164\n",
       "2022-04-27  0.131745        0.556992   0.942716\n",
       "2022-04-28  0.317541        0.958404   0.193490\n",
       "2022-04-29  0.076246        0.548172   0.319479\n",
       "2022-04-30  0.824853        0.373665   0.310125\n",
       "\n",
       "[100 rows x 3 columns]"
      ]
     },
     "execution_count": 79,
     "metadata": {},
     "output_type": "execute_result"
    }
   ],
   "source": [
    "frame_price_services['Products'] = list(map(tax_product, frame_price_services['Products']))\n",
    "frame_price_services['General Sevice'] = list(map(tax_general_service, frame_price_services['General Sevice']))\n",
    "frame_price_services['Royalties'] = list(map(tax_royalties, frame_price_services['Royalties']))\n",
    "\n",
    "frame_price_services"
   ]
  }
 ],
 "metadata": {
  "kernelspec": {
   "display_name": "Python 3",
   "language": "python",
   "name": "python3"
  },
  "language_info": {
   "codemirror_mode": {
    "name": "ipython",
    "version": 3
   },
   "file_extension": ".py",
   "mimetype": "text/x-python",
   "name": "python",
   "nbconvert_exporter": "python",
   "pygments_lexer": "ipython3",
   "version": "3.8.8"
  }
 },
 "nbformat": 4,
 "nbformat_minor": 5
}
