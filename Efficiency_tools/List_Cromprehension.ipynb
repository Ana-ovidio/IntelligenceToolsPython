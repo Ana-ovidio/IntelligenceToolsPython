{
 "cells": [
  {
   "cell_type": "markdown",
   "id": "93e823c1",
   "metadata": {},
   "source": [
    "# **Transformando listas em dicionários + Zip function**\n",
    "\n",
    "Necessidade? Facilita na montagem de DataFrames e na busca de algum valor correspondente entre duas listas. \n",
    "\n",
    "1) Formas de tranformar duas listas em dicionários. \n",
    "\n",
    "        dictionary = dict.fromkeys(lista_nome_chaves, lista_valores)\n",
    "        OU\n",
    "        dictionary = dict(list_tuplas)**\n",
    "        \n",
    "2) Tranformar duas listas em lista de tuplas:\n",
    "\n",
    "        list_tuple = zip(lista_nome_chaves, lista_valores)\n",
    "\n",
    "**Estruturação da lista de tuplas**\n",
    "\n",
    "list1 = [A, B, C]\n",
    "\n",
    "list2 = [1, 2, 3]\n",
    "\n",
    "list_tuple= [(A,1), (B,2), (C,3)]\n",
    "                "
   ]
  },
  {
   "cell_type": "code",
   "execution_count": 12,
   "id": "ea936fc7",
   "metadata": {},
   "outputs": [],
   "source": [
    "products = ['iphone', 'sansung galax', 'tv sansung', 'ps5', 'tablet']\n",
    "sell = [15000, 12000, 10000, 143000, 1720]\n",
    "\n",
    "list_tuple = zip(products, sell)"
   ]
  },
  {
   "cell_type": "code",
   "execution_count": 13,
   "id": "93209c09",
   "metadata": {},
   "outputs": [
    {
     "name": "stdout",
     "output_type": "stream",
     "text": [
      "{'iphone': 15000, 'sansung galax': 12000, 'tv sansung': 10000, 'ps5': 143000, 'tablet': 1720}\n"
     ]
    }
   ],
   "source": [
    "dict_sell = dict(list_tuple)\n",
    "print(dict_sell)"
   ]
  },
  {
   "cell_type": "markdown",
   "id": "60413311",
   "metadata": {},
   "source": [
    "# **Necessidade de sumarizar uma interação**\n",
    "\n",
    "Embora exista list cromprehesion, nem sempre é necessário existir lista para que se aplique a mesma lógica"
   ]
  },
  {
   "cell_type": "code",
   "execution_count": 17,
   "id": "97344fd7",
   "metadata": {},
   "outputs": [],
   "source": [
    "products = ['coca', 'água mineral', 'biscoitos sortidos', 'fanta', 'balas', 'bolos', 'pães', 'sucos']\n",
    "sell = [1200, 3000, 500, 763, 1982, 387, 4506, 1002] "
   ]
  },
  {
   "cell_type": "markdown",
   "id": "e09ccc1c",
   "metadata": {},
   "source": [
    "**DESAFIO**\n",
    "\n",
    "Criar top5 produtos mais vendidos e descobrir a porcentagem de vendas de todos eles em relação ao total\n",
    "\n",
    "---------\n",
    "\n",
    "            estimar o top5 de vendas -> somar os respectivos preços de venda -> dividir pelo total de vendas."
   ]
  },
  {
   "cell_type": "code",
   "execution_count": 19,
   "id": "197a8fe1",
   "metadata": {},
   "outputs": [
    {
     "data": {
      "text/plain": [
       "[4506, 3000, 1982, 1200, 1002, 763]"
      ]
     },
     "execution_count": 19,
     "metadata": {},
     "output_type": "execute_result"
    }
   ],
   "source": [
    "#Ordenei os dados da ordem decrescente, assim eu capto os 5 maiores preços \n",
    "\n",
    "top_5_sell = sorted(sell, reverse=True)[:6]\n",
    "top_5_sell"
   ]
  },
  {
   "cell_type": "code",
   "execution_count": 21,
   "id": "d3ded806",
   "metadata": {},
   "outputs": [
    {
     "data": {
      "text/plain": [
       "[6, 1, 4, 0, 7, 3]"
      ]
     },
     "execution_count": 21,
     "metadata": {},
     "output_type": "execute_result"
    }
   ],
   "source": [
    "#Capto as posições, na lista de sell,respectivas a cada preço contido em top_5_sell\n",
    "\n",
    "index_top5 = [sell.index(i) for i in top_5_sell]\n",
    "index_top5"
   ]
  },
  {
   "cell_type": "code",
   "execution_count": 22,
   "id": "bb6817e0",
   "metadata": {},
   "outputs": [
    {
     "data": {
      "text/plain": [
       "['pães', 'água mineral', 'balas', 'coca', 'sucos', 'fanta']"
      ]
     },
     "execution_count": 22,
     "metadata": {},
     "output_type": "execute_result"
    }
   ],
   "source": [
    "top5_products = [products[i] for i in index_top5]\n",
    "top5_products"
   ]
  },
  {
   "cell_type": "code",
   "execution_count": 26,
   "id": "ee41ea78",
   "metadata": {},
   "outputs": [
    {
     "name": "stdout",
     "output_type": "stream",
     "text": [
      "Os 5 produtos favoráveis representam 93.4% das vendas\n"
     ]
    }
   ],
   "source": [
    "sum_top5 = sum(sell[i] for i, product in enumerate(products) if product in top5_products)\n",
    "percentage = sum_top5/sum(sell)\n",
    "\n",
    "print('Os 5 produtos favoráveis representam {:0.1%} das vendas'.format(percentage))"
   ]
  }
 ],
 "metadata": {
  "kernelspec": {
   "display_name": "Python 3",
   "language": "python",
   "name": "python3"
  },
  "language_info": {
   "codemirror_mode": {
    "name": "ipython",
    "version": 3
   },
   "file_extension": ".py",
   "mimetype": "text/x-python",
   "name": "python",
   "nbconvert_exporter": "python",
   "pygments_lexer": "ipython3",
   "version": "3.8.8"
  }
 },
 "nbformat": 4,
 "nbformat_minor": 5
}
