{
 "cells": [
  {
   "cell_type": "markdown",
   "metadata": {},
   "source": [
    "## **Leitura de um csv diretamente da internet**\n",
    "\n",
    "Existem dois casos para que a leitura seja realizada através de um **link**\n",
    "\n",
    "- Indicação do link diretamente.\n",
    "- Tratamento do link em caso de **HTTPERROR**"
   ]
  },
  {
   "cell_type": "markdown",
   "metadata": {},
   "source": [
    "-------------\n",
    "**Primeira situação em que o link pode ser inserido diretamente**"
   ]
  },
  {
   "cell_type": "code",
   "execution_count": 1,
   "metadata": {},
   "outputs": [],
   "source": [
    "import pandas as pd "
   ]
  },
  {
   "cell_type": "code",
   "execution_count": 10,
   "metadata": {},
   "outputs": [
    {
     "data": {
      "text/html": [
       "<div>\n",
       "<style scoped>\n",
       "    .dataframe tbody tr th:only-of-type {\n",
       "        vertical-align: middle;\n",
       "    }\n",
       "\n",
       "    .dataframe tbody tr th {\n",
       "        vertical-align: top;\n",
       "    }\n",
       "\n",
       "    .dataframe thead th {\n",
       "        text-align: right;\n",
       "    }\n",
       "</style>\n",
       "<table border=\"1\" class=\"dataframe\">\n",
       "  <thead>\n",
       "    <tr style=\"text-align: right;\">\n",
       "      <th></th>\n",
       "      <th>Date</th>\n",
       "      <th>Price</th>\n",
       "      <th>Open</th>\n",
       "      <th>High</th>\n",
       "      <th>Low</th>\n",
       "      <th>Change %</th>\n",
       "    </tr>\n",
       "  </thead>\n",
       "  <tbody>\n",
       "    <tr>\n",
       "      <th>0</th>\n",
       "      <td>Jan 01, 2020</td>\n",
       "      <td>4.0195</td>\n",
       "      <td>4.0195</td>\n",
       "      <td>4.0195</td>\n",
       "      <td>4.0195</td>\n",
       "      <td>0.00%</td>\n",
       "    </tr>\n",
       "    <tr>\n",
       "      <th>1</th>\n",
       "      <td>Dec 31, 2019</td>\n",
       "      <td>4.0195</td>\n",
       "      <td>4.0201</td>\n",
       "      <td>4.0201</td>\n",
       "      <td>4.0195</td>\n",
       "      <td>0.00%</td>\n",
       "    </tr>\n",
       "    <tr>\n",
       "      <th>2</th>\n",
       "      <td>Dec 30, 2019</td>\n",
       "      <td>4.0195</td>\n",
       "      <td>4.0484</td>\n",
       "      <td>4.0484</td>\n",
       "      <td>4.0084</td>\n",
       "      <td>-0.65%</td>\n",
       "    </tr>\n",
       "    <tr>\n",
       "      <th>3</th>\n",
       "      <td>Dec 27, 2019</td>\n",
       "      <td>4.0460</td>\n",
       "      <td>4.0568</td>\n",
       "      <td>4.0614</td>\n",
       "      <td>4.0339</td>\n",
       "      <td>-0.25%</td>\n",
       "    </tr>\n",
       "    <tr>\n",
       "      <th>4</th>\n",
       "      <td>Dec 26, 2019</td>\n",
       "      <td>4.0560</td>\n",
       "      <td>4.0827</td>\n",
       "      <td>4.0827</td>\n",
       "      <td>4.0453</td>\n",
       "      <td>-0.68%</td>\n",
       "    </tr>\n",
       "    <tr>\n",
       "      <th>...</th>\n",
       "      <td>...</td>\n",
       "      <td>...</td>\n",
       "      <td>...</td>\n",
       "      <td>...</td>\n",
       "      <td>...</td>\n",
       "      <td>...</td>\n",
       "    </tr>\n",
       "    <tr>\n",
       "      <th>3908</th>\n",
       "      <td>Jan 07, 2005</td>\n",
       "      <td>2.7120</td>\n",
       "      <td>2.7230</td>\n",
       "      <td>2.7290</td>\n",
       "      <td>2.6890</td>\n",
       "      <td>-0.36%</td>\n",
       "    </tr>\n",
       "    <tr>\n",
       "      <th>3909</th>\n",
       "      <td>Jan 06, 2005</td>\n",
       "      <td>2.7218</td>\n",
       "      <td>2.7140</td>\n",
       "      <td>2.7340</td>\n",
       "      <td>2.7060</td>\n",
       "      <td>0.27%</td>\n",
       "    </tr>\n",
       "    <tr>\n",
       "      <th>3910</th>\n",
       "      <td>Jan 05, 2005</td>\n",
       "      <td>2.7145</td>\n",
       "      <td>2.6980</td>\n",
       "      <td>2.7331</td>\n",
       "      <td>2.6910</td>\n",
       "      <td>-0.17%</td>\n",
       "    </tr>\n",
       "    <tr>\n",
       "      <th>3911</th>\n",
       "      <td>Jan 04, 2005</td>\n",
       "      <td>2.7190</td>\n",
       "      <td>2.6720</td>\n",
       "      <td>2.7230</td>\n",
       "      <td>2.6720</td>\n",
       "      <td>1.61%</td>\n",
       "    </tr>\n",
       "    <tr>\n",
       "      <th>3912</th>\n",
       "      <td>Jan 03, 2005</td>\n",
       "      <td>2.6759</td>\n",
       "      <td>2.6610</td>\n",
       "      <td>2.6760</td>\n",
       "      <td>2.6520</td>\n",
       "      <td>0.75%</td>\n",
       "    </tr>\n",
       "  </tbody>\n",
       "</table>\n",
       "<p>3913 rows × 6 columns</p>\n",
       "</div>"
      ],
      "text/plain": [
       "              Date   Price    Open    High     Low Change %\n",
       "0     Jan 01, 2020  4.0195  4.0195  4.0195  4.0195    0.00%\n",
       "1     Dec 31, 2019  4.0195  4.0201  4.0201  4.0195    0.00%\n",
       "2     Dec 30, 2019  4.0195  4.0484  4.0484  4.0084   -0.65%\n",
       "3     Dec 27, 2019  4.0460  4.0568  4.0614  4.0339   -0.25%\n",
       "4     Dec 26, 2019  4.0560  4.0827  4.0827  4.0453   -0.68%\n",
       "...            ...     ...     ...     ...     ...      ...\n",
       "3908  Jan 07, 2005  2.7120  2.7230  2.7290  2.6890   -0.36%\n",
       "3909  Jan 06, 2005  2.7218  2.7140  2.7340  2.7060    0.27%\n",
       "3910  Jan 05, 2005  2.7145  2.6980  2.7331  2.6910   -0.17%\n",
       "3911  Jan 04, 2005  2.7190  2.6720  2.7230  2.6720    1.61%\n",
       "3912  Jan 03, 2005  2.6759  2.6610  2.6760  2.6520    0.75%\n",
       "\n",
       "[3913 rows x 6 columns]"
      ]
     },
     "metadata": {},
     "output_type": "display_data"
    }
   ],
   "source": [
    "url = 'https://drive.google.com/uc?authuser=0&id=1UzlPy6CZQeAzDXhfc_2sHEyK_Jb50vJs&export=download'\n",
    "price_df = pd.read_csv(url)\n",
    "display(price_df)"
   ]
  },
  {
   "cell_type": "markdown",
   "metadata": {},
   "source": [
    "----------\n",
    "**Modificando a coluna de datas para índice**"
   ]
  },
  {
   "cell_type": "code",
   "execution_count": 11,
   "metadata": {},
   "outputs": [
    {
     "data": {
      "text/html": [
       "<div>\n",
       "<style scoped>\n",
       "    .dataframe tbody tr th:only-of-type {\n",
       "        vertical-align: middle;\n",
       "    }\n",
       "\n",
       "    .dataframe tbody tr th {\n",
       "        vertical-align: top;\n",
       "    }\n",
       "\n",
       "    .dataframe thead th {\n",
       "        text-align: right;\n",
       "    }\n",
       "</style>\n",
       "<table border=\"1\" class=\"dataframe\">\n",
       "  <thead>\n",
       "    <tr style=\"text-align: right;\">\n",
       "      <th></th>\n",
       "      <th>Price</th>\n",
       "      <th>Open</th>\n",
       "      <th>High</th>\n",
       "      <th>Low</th>\n",
       "      <th>Change %</th>\n",
       "    </tr>\n",
       "    <tr>\n",
       "      <th>Date</th>\n",
       "      <th></th>\n",
       "      <th></th>\n",
       "      <th></th>\n",
       "      <th></th>\n",
       "      <th></th>\n",
       "    </tr>\n",
       "  </thead>\n",
       "  <tbody>\n",
       "    <tr>\n",
       "      <th>Jan 01, 2020</th>\n",
       "      <td>4.0195</td>\n",
       "      <td>4.0195</td>\n",
       "      <td>4.0195</td>\n",
       "      <td>4.0195</td>\n",
       "      <td>0.00%</td>\n",
       "    </tr>\n",
       "    <tr>\n",
       "      <th>Dec 31, 2019</th>\n",
       "      <td>4.0195</td>\n",
       "      <td>4.0201</td>\n",
       "      <td>4.0201</td>\n",
       "      <td>4.0195</td>\n",
       "      <td>0.00%</td>\n",
       "    </tr>\n",
       "    <tr>\n",
       "      <th>Dec 30, 2019</th>\n",
       "      <td>4.0195</td>\n",
       "      <td>4.0484</td>\n",
       "      <td>4.0484</td>\n",
       "      <td>4.0084</td>\n",
       "      <td>-0.65%</td>\n",
       "    </tr>\n",
       "    <tr>\n",
       "      <th>Dec 27, 2019</th>\n",
       "      <td>4.0460</td>\n",
       "      <td>4.0568</td>\n",
       "      <td>4.0614</td>\n",
       "      <td>4.0339</td>\n",
       "      <td>-0.25%</td>\n",
       "    </tr>\n",
       "    <tr>\n",
       "      <th>Dec 26, 2019</th>\n",
       "      <td>4.0560</td>\n",
       "      <td>4.0827</td>\n",
       "      <td>4.0827</td>\n",
       "      <td>4.0453</td>\n",
       "      <td>-0.68%</td>\n",
       "    </tr>\n",
       "    <tr>\n",
       "      <th>...</th>\n",
       "      <td>...</td>\n",
       "      <td>...</td>\n",
       "      <td>...</td>\n",
       "      <td>...</td>\n",
       "      <td>...</td>\n",
       "    </tr>\n",
       "    <tr>\n",
       "      <th>Jan 07, 2005</th>\n",
       "      <td>2.7120</td>\n",
       "      <td>2.7230</td>\n",
       "      <td>2.7290</td>\n",
       "      <td>2.6890</td>\n",
       "      <td>-0.36%</td>\n",
       "    </tr>\n",
       "    <tr>\n",
       "      <th>Jan 06, 2005</th>\n",
       "      <td>2.7218</td>\n",
       "      <td>2.7140</td>\n",
       "      <td>2.7340</td>\n",
       "      <td>2.7060</td>\n",
       "      <td>0.27%</td>\n",
       "    </tr>\n",
       "    <tr>\n",
       "      <th>Jan 05, 2005</th>\n",
       "      <td>2.7145</td>\n",
       "      <td>2.6980</td>\n",
       "      <td>2.7331</td>\n",
       "      <td>2.6910</td>\n",
       "      <td>-0.17%</td>\n",
       "    </tr>\n",
       "    <tr>\n",
       "      <th>Jan 04, 2005</th>\n",
       "      <td>2.7190</td>\n",
       "      <td>2.6720</td>\n",
       "      <td>2.7230</td>\n",
       "      <td>2.6720</td>\n",
       "      <td>1.61%</td>\n",
       "    </tr>\n",
       "    <tr>\n",
       "      <th>Jan 03, 2005</th>\n",
       "      <td>2.6759</td>\n",
       "      <td>2.6610</td>\n",
       "      <td>2.6760</td>\n",
       "      <td>2.6520</td>\n",
       "      <td>0.75%</td>\n",
       "    </tr>\n",
       "  </tbody>\n",
       "</table>\n",
       "<p>3913 rows × 5 columns</p>\n",
       "</div>"
      ],
      "text/plain": [
       "               Price    Open    High     Low Change %\n",
       "Date                                                 \n",
       "Jan 01, 2020  4.0195  4.0195  4.0195  4.0195    0.00%\n",
       "Dec 31, 2019  4.0195  4.0201  4.0201  4.0195    0.00%\n",
       "Dec 30, 2019  4.0195  4.0484  4.0484  4.0084   -0.65%\n",
       "Dec 27, 2019  4.0460  4.0568  4.0614  4.0339   -0.25%\n",
       "Dec 26, 2019  4.0560  4.0827  4.0827  4.0453   -0.68%\n",
       "...              ...     ...     ...     ...      ...\n",
       "Jan 07, 2005  2.7120  2.7230  2.7290  2.6890   -0.36%\n",
       "Jan 06, 2005  2.7218  2.7140  2.7340  2.7060    0.27%\n",
       "Jan 05, 2005  2.7145  2.6980  2.7331  2.6910   -0.17%\n",
       "Jan 04, 2005  2.7190  2.6720  2.7230  2.6720    1.61%\n",
       "Jan 03, 2005  2.6759  2.6610  2.6760  2.6520    0.75%\n",
       "\n",
       "[3913 rows x 5 columns]"
      ]
     },
     "execution_count": 11,
     "metadata": {},
     "output_type": "execute_result"
    }
   ],
   "source": [
    "price_df = price_df.set_index('Date')\n",
    "price_df"
   ]
  },
  {
   "cell_type": "markdown",
   "metadata": {},
   "source": [
    "---------\n",
    "**Necessidade de tratar os links para evitar *HTTPERROR***\n",
    "\n",
    "Nesse caso, contaremos com o apoio de duas bibliotecas importantes:\n",
    "\n",
    "    import requests\n",
    "    import io\n",
    "    \n",
    "- request: Capta o conteúdo do arquivo. \n",
    "- io: Tranforma o conteúdo em um arquivo legível para o pandas. "
   ]
  },
  {
   "cell_type": "code",
   "execution_count": 13,
   "metadata": {},
   "outputs": [],
   "source": [
    "import requests\n",
    "import io"
   ]
  },
  {
   "cell_type": "code",
   "execution_count": 50,
   "metadata": {},
   "outputs": [],
   "source": [
    "url =  'http://portalweb.cooxupe.com.br:8080/portal/precohistoricocafe_2.jsp?d-3496238-e=2&6578706f7274=1'"
   ]
  },
  {
   "cell_type": "markdown",
   "metadata": {},
   "source": [
    "-------\n",
    "**.get** = Busca no link.\n",
    "**content** = Busca o conteúdo no link."
   ]
  },
  {
   "cell_type": "code",
   "execution_count": 51,
   "metadata": {},
   "outputs": [
    {
     "data": {
      "text/plain": [
       "b'\"Ano\"\\t\"Janeiro\"\\t\"Fevereiro\"\\t\"Mar\\xe7o\"\\t\"Abril\"\\t\"Maio\"\\t\"Junho\"\\t\"Julho\"\\t\"Agosto\"\\t\"Setembro\"\\t\"Outubro\"\\t\"Novembro\"\\t\"Dezembro\"\\n\"2022\"\\t\"1480.49\"\\t\"1488.11\"\\t\"\"\\t\"\"\\t\"\"\\t\"\"\\t\"\"\\t\"\"\\t\"\"\\t\"\"\\t\"\"\\t\"\"\\n\"2021\"\\t\"639.23\"\\t\"695.33\"\\t\"726.88\"\\t\"744.05\"\\t\"811.06\"\\t\"793.67\"\\t\"762.36\"\\t\"772.03\"\\t\"851.11\"\\t\"1113.29\"\\t\"1285.94\"\\t\"1446.66\"\\n\"2020\"\\t\"501.68\"\\t\"493.67\"\\t\"555.23\"\\t\"576.55\"\\t\"566.69\"\\t\"518.24\"\\t\"531.82\"\\t\"555.65\"\\t\"545.8\"\\t\"521.32\"\\t\"551.45\"\\t\"586.98\"\\n\"2019\"\\t\"399.98\"\\t\"398.08\"\\t\"390.17\"\\t\"381\"\\t\"392.92\"\\t\"427.09\"\\t\"442.84\"\\t\"417.23\"\\t\"415.82\"\\t\"406.17\"\\t\"447.67\"\\t\"518.57\"\\n\"2018\"\\t\"432.26\"\\t\"430.47\"\\t\"421.87\"\\t\"431.5\"\\t\"446.76\"\\t\"466.24\"\\t\"474.96\"\\t\"459.73\"\\t\"442.37\"\\t\"424.54\"\\t\"429.7\"\\t\"410.42\"\\n\"2017\"\\t\"514.21\"\\t\"505.3\"\\t\"488.99\"\\t\"479.25\"\\t\"471.89\"\\t\"473.76\"\\t\"508.55\"\\t\"511.44\"\\t\"477.19\"\\t\"437.82\"\\t\"450.84\"\\t\"449.44\"\\n\"2016\"\\t\"491.71\"\\t\"479.41\"\\t\"500.51\"\\t\"479\"\\t\"478.52\"\\t\"494.52\"\\t\"510.03\"\\t\"503.8\"\\t\"505.52\"\\t\"507.73\"\\t\"549.46\"\\t\"504.75\"\\n\"2015\"\\t\"469.08\"\\t\"464.85\"\\t\"472.13\"\\t\"456.69\"\\t\"441.52\"\\t\"470.26\"\\t\"440.97\"\\t\"474.56\"\\t\"466.21\"\\t\"472.95\"\\t\"443.5\"\\t\"474.02\"\\n\"2014\"\\t\"275.47\"\\t\"341.37\"\\t\"432.91\"\\t\"430.91\"\\t\"403.69\"\\t\"384.6\"\\t\"377.02\"\\t\"398.44\"\\t\"395.12\"\\t\"456.66\"\\t\"466.14\"\\t\"467.3\"\\n\"2013\"\\t\"331.71\"\\t\"308.16\"\\t\"301.2\"\\t\"298.63\"\\t\"304.76\"\\t\"284.48\"\\t\"297.33\"\\t\"291.48\"\\t\"278.38\"\\t\"248.45\"\\t\"234.43\"\\t\"252.69\"\\n\"2012\"\\t\"473.8\"\\t\"444.78\"\\t\"402.54\"\\t\"374.13\"\\t\"385.05\"\\t\"366.47\"\\t\"420.85\"\\t\"403.73\"\\t\"394.25\"\\t\"378.21\"\\t\"347.7\"\\t\"334.27\"\\n\"2011\"\\t\"405.52\"\\t\"473.95\"\\t\"493.91\"\\t\"506.52\"\\t\"500.25\"\\t\"484.58\"\\t\"445.01\"\\t\"442.18\"\\t\"458.07\"\\t\"459.42\"\\t\"478.76\"\\t\"476.54\"\\n\"2010\"\\t\"282.41\"\\t\"274.39\"\\t\"267.6\"\\t\"258.5\"\\t\"262.84\"\\t\"286.17\"\\t\"294.53\"\\t\"294.06\"\\t\"291.67\"\\t\"295.58\"\\t\"315.92\"\\t\"345.01\"\\n\"2009\"\\t\"257.2\"\\t\"262.78\"\\t\"257.98\"\\t\"261.94\"\\t\"261.5\"\\t\"256.05\"\\t\"256.19\"\\t\"268.99\"\\t\"254.8\"\\t\"245.34\"\\t\"271.77\"\\t\"273.78\"\\n\"2008\"\\t\"255.94\"\\t\"274.19\"\\t\"260.42\"\\t\"244.31\"\\t\"244.54\"\\t\"251.89\"\\t\"261.99\"\\t\"267.53\"\\t\"270.08\"\\t\"252\"\\t\"245.12\"\\t\"250.12\"\\n\"2007\"\\t\"268.28\"\\t\"258.5\"\\t\"245.11\"\\t\"232.76\"\\t\"227.94\"\\t\"235.81\"\\t\"243.38\"\\t\"255.14\"\\t\"253.06\"\\t\"257.43\"\\t\"245.71\"\\t\"255.43\"\\n\"2006\"\\t\"274.02\"\\t\"251.55\"\\t\"244.16\"\\t\"242.61\"\\t\"223.77\"\\t\"214.53\"\\t\"220.57\"\\t\"240.37\"\\t\"243.88\"\\t\"238.28\"\\t\"250.66\"\\t\"278.2\"\\n\"2005\"\\t\"261.47\"\\t\"285.24\"\\t\"307.56\"\\t\"320.03\"\\t\"286.63\"\\t\"283.33\"\\t\"264.85\"\\t\"268.8\"\\t\"277.53\"\\t\"237.58\"\\t\"239.78\"\\t\"256.64\"\\n\"2004\"\\t\"188.04\"\\t\"197.28\"\\t\"199.09\"\\t\"194.64\"\\t\"215.06\"\\t\"229.31\"\\t\"196.09\"\\t\"184.15\"\\t\"189.52\"\\t\"187.96\"\\t\"210.23\"\\t\"230.88\"\\n\"2003\"\\t\"182.17\"\\t\"184.75\"\\t\"166.38\"\\t\"172.98\"\\t\"167.07\"\\t\"152.82\"\\t\"161.39\"\\t\"169.79\"\\t\"173.96\"\\t\"163.06\"\\t\"162.67\"\\t\"173.21\"\\n\"2002\"\\t\"102.83\"\\t\"104.1\"\\t\"111.57\"\\t\"112.52\"\\t\"97.61\"\\t\"95.83\"\\t\"104.71\"\\t\"110.73\"\\t\"120.56\"\\t\"147.85\"\\t\"167.93\"\\t\"169.42\"\\n\"2001\"\\t\"121.03\"\\t\"118.46\"\\t\"120.61\"\\t\"110.68\"\\t\"125.68\"\\t\"116.6\"\\t\"110.97\"\\t\"112.3\"\\t\"108.25\"\\t\"95.88\"\\t\"90.68\"\\t\"92.11\"\\n\"2000\"\\t\"215.77\"\\t\"192.51\"\\t\"183.41\"\\t\"174.49\"\\t\"169.07\"\\t\"150.13\"\\t\"163.08\"\\t\"151.3\"\\t\"146.36\"\\t\"129.36\"\\t\"123.51\"\\t\"120.71\"\\n\"1999\"\\t\"170.76\"\\t\"183.8\"\\t\"187.76\"\\t\"164.8\"\\t\"181.57\"\\t\"176.69\"\\t\"157.98\"\\t\"156.92\"\\t\"143.04\"\\t\"186.47\"\\t\"207.35\"\\t\"245.61\"\\n\"1998\"\\t\"235.89\"\\t\"233.53\"\\t\"201.63\"\\t\"181.55\"\\t\"152.16\"\\t\"137.13\"\\t\"122.94\"\\t\"132.33\"\\t\"117.13\"\\t\"113.77\"\\t\"123.76\"\\t\"135.04\"\\n\"1997\"\\t\"154.38\"\\t\"188.83\"\\t\"197.54\"\\t\"212.58\"\\t\"221.56\"\\t\"209.94\"\\t\"179.74\"\\t\"195.56\"\\t\"205.5\"\\t\"192.15\"\\t\"212.84\"\\t\"212.85\"\\n\"1996\"\\t\"133.13\"\\t\"149.81\"\\t\"144.59\"\\t\"133.9\"\\t\"141.97\"\\t\"121.95\"\\t\"101.63\"\\t\"106.58\"\\t\"112.72\"\\t\"111.9\"\\t\"112.38\"\\t\"117.35\"\\n\"1995\"\\t\"140.66\"\\t\"135.89\"\\t\"151.06\"\\t\"145.98\"\\t\"143.58\"\\t\"133.01\"\\t\"128.5\"\\t\"135.28\"\\t\"124.89\"\\t\"121.84\"\\t\"122.34\"\\t\"112.82\"\\n\"1994\"\\t\"28732\"\\t\"42928\"\\t\"62876\"\\t\"105521\"\\t\"182842.53\"\\t\"302016.37\"\\t\"195.14\"\\t\"171.03\"\\t\"180.19\"\\t\"157.68\"\\t\"141.68\"\\t\"130.25\"\\n\"1993\"\\t\"970870.24\"\\t\"1147732\"\\t\"1505594.88\"\\t\"1541264\"\\t\"2142885\"\\t\"2792860\"\\t\"4056066\"\\t\"6077\"\\t\"8075\"\\t\"11198\"\\t\"15138\"\\t\"20790\"\\n\"1992\"\\t\"64935\"\\t\"76055\"\\t\"98784.1\"\\t\"108265.68\"\\t\"114791.66\"\\t\"136521.87\"\\t\"176592.33\"\\t\"189123.22\"\\t\"259860.55\"\\t\"423983.74\"\\t\"550391.62\"\\t\"867005.83\"\\n\"1991\"\\t\"11882.35\"\\t\"15940.37\"\\t\"17489.74\"\\t\"18693.57\"\\t\"18010.39\"\\t\"18675.08\"\\t\"19333.11\"\\t\"20145.01\"\\t\"26744.61\"\\t\"33903\"\\t\"40528\"\\t\"44367\"\\n\"1990\"\\t\"1197.83\"\\t\"2229.4\"\\t\"4657.87\"\\t\"4569.06\"\\t\"4741.11\"\\t\"4606.12\"\\t\"4604.83\"\\t\"6110.39\"\\t\"6409.4\"\\t\"6581.29\"\\t\"7043.68\"\\t\"9658.44\"\\n\"1989\"\\t\"109.28\"\\t\"93.55\"\\t\"102.98\"\\t\"128.18\"\\t\"160.91\"\\t\"157.48\"\\t\"150.57\"\\t\"147.41\"\\t\"198.66\"\\t\"244.63\"\\t\"412.2\"\\t\"598.37\"\\n\"1988\"\\t\"3999.32\"\\t\"5619.86\"\\t\"6878.7\"\\t\"7835.88\"\\t\"8662.83\"\\t\"12520.65\"\\t\"14784.6\"\\t\"15723.48\"\\t\"22558.67\"\\t\"28117.1\"\\t\"38690.88\"\\t\"67768.1\"\\n\"1987\"\\t\"1898.09\"\\t\"1839.29\"\\t\"1812.81\"\\t\"1925.28\"\\t\"2599.25\"\\t\"2450.64\"\\t\"2254.18\"\\t\"2217.49\"\\t\"2294.09\"\\t\"2749.25\"\\t\"2945.86\"\\t\"3067.6\"\\n\"1986\"\\t\"3491768\"\\t\"3498152\"\\t\"3464.15\"\\t\"2965.38\"\\t\"2953.35\"\\t\"2734.7\"\\t\"2844.75\"\\t\"2991.12\"\\t\"3034.67\"\\t\"2721.27\"\\t\"2723.48\"\\t\"2140.34\"\\n\"1985\"\\t\"388133\"\\t\"444484\"\\t\"501629\"\\t\"539721\"\\t\"528152\"\\t\"512101\"\\t\"504678\"\\t\"522889\"\\t\"557932\"\\t\"874916\"\\t\"1282990\"\\t\"2449053\"\\n\"1984\"\\t\"66626.31\"\\t\"73169.7\"\\t\"84519.93\"\\t\"85939.43\"\\t\"94542.67\"\\t\"121940.52\"\\t\"145551.52\"\\t\"147170.12\"\\t\"170772.83\"\\t\"193501\"\\t\"219316\"\\t\"258899\"\\n\"1983\"\\t\"24664.3\"\\t\"35984.96\"\\t\"29887.05\"\\t\"29622.46\"\\t\"29531.22\"\\t\"29006.59\"\\t\"29595.9\"\\t\"33679.96\"\\t\"37445.32\"\\t\"43001.66\"\\t\"45297.57\"\\t\"54951.5\"\\n\"1982\"\\t\"10751.46\"\\t\"11521.11\"\\t\"12409.68\"\\t\"13397.29\"\\t\"13922.95\"\\t\"16164.71\"\\t\"15423.39\"\\t\"16280.62\"\\t\"16946.96\"\\t\"18228.16\"\\t\"20552.48\"\\t\"24461.28\"\\n\"1981\"\\t\"6336.11\"\\t\"6563.57\"\\t\"6421.42\"\\t\"6421.42\"\\t\"6411.71\"\\t\"6207.21\"\\t\"6533.26\"\\t\"7455.29\"\\t\"7601.47\"\\t\"7814.22\"\\t\"8670.28\"\\t\"10055.01\"'"
      ]
     },
     "execution_count": 51,
     "metadata": {},
     "output_type": "execute_result"
    }
   ],
   "source": [
    "conteudo_url = requests.get(url).content\n",
    "conteudo_url"
   ]
  },
  {
   "cell_type": "code",
   "execution_count": 52,
   "metadata": {},
   "outputs": [
    {
     "data": {
      "text/plain": [
       "<_io.StringIO at 0x246eef52f70>"
      ]
     },
     "execution_count": 52,
     "metadata": {},
     "output_type": "execute_result"
    }
   ],
   "source": [
    "file_csv = io.StringIO(conteudo_url. decode('latin1'))\n",
    "file_csv"
   ]
  },
  {
   "cell_type": "code",
   "execution_count": 53,
   "metadata": {},
   "outputs": [
    {
     "ename": "TypeError",
     "evalue": "publish() got an unexpected keyword argument 'sep'",
     "output_type": "error",
     "traceback": [
      "\u001b[1;31m---------------------------------------------------------------------------\u001b[0m",
      "\u001b[1;31mTypeError\u001b[0m                                 Traceback (most recent call last)",
      "\u001b[1;32m<ipython-input-53-2257b084945d>\u001b[0m in \u001b[0;36m<module>\u001b[1;34m\u001b[0m\n\u001b[0;32m      1\u001b[0m \u001b[0mcoffe_price_df\u001b[0m \u001b[1;33m=\u001b[0m \u001b[0mpd\u001b[0m\u001b[1;33m.\u001b[0m\u001b[0mread_csv\u001b[0m\u001b[1;33m(\u001b[0m\u001b[0mfile_csv\u001b[0m\u001b[1;33m)\u001b[0m\u001b[1;33m\u001b[0m\u001b[1;33m\u001b[0m\u001b[0m\n\u001b[1;32m----> 2\u001b[1;33m \u001b[0mdisplay\u001b[0m\u001b[1;33m(\u001b[0m\u001b[0mcoffe_price_df\u001b[0m\u001b[1;33m,\u001b[0m  \u001b[0msep\u001b[0m\u001b[1;33m=\u001b[0m\u001b[1;34mr'\\t'\u001b[0m\u001b[1;33m,\u001b[0m \u001b[0mengine\u001b[0m\u001b[1;33m=\u001b[0m\u001b[1;34m'python'\u001b[0m\u001b[1;33m)\u001b[0m\u001b[1;33m\u001b[0m\u001b[1;33m\u001b[0m\u001b[0m\n\u001b[0m",
      "\u001b[1;32mC:\\ProgramData\\Anaconda3\\lib\\site-packages\\IPython\\core\\display.py\u001b[0m in \u001b[0;36mdisplay\u001b[1;34m(include, exclude, metadata, transient, display_id, *objs, **kwargs)\u001b[0m\n\u001b[0;32m    318\u001b[0m                 \u001b[1;31m# kwarg-specified metadata gets precedence\u001b[0m\u001b[1;33m\u001b[0m\u001b[1;33m\u001b[0m\u001b[1;33m\u001b[0m\u001b[0m\n\u001b[0;32m    319\u001b[0m                 \u001b[0m_merge\u001b[0m\u001b[1;33m(\u001b[0m\u001b[0mmd_dict\u001b[0m\u001b[1;33m,\u001b[0m \u001b[0mmetadata\u001b[0m\u001b[1;33m)\u001b[0m\u001b[1;33m\u001b[0m\u001b[1;33m\u001b[0m\u001b[0m\n\u001b[1;32m--> 320\u001b[1;33m             \u001b[0mpublish_display_data\u001b[0m\u001b[1;33m(\u001b[0m\u001b[0mdata\u001b[0m\u001b[1;33m=\u001b[0m\u001b[0mformat_dict\u001b[0m\u001b[1;33m,\u001b[0m \u001b[0mmetadata\u001b[0m\u001b[1;33m=\u001b[0m\u001b[0mmd_dict\u001b[0m\u001b[1;33m,\u001b[0m \u001b[1;33m**\u001b[0m\u001b[0mkwargs\u001b[0m\u001b[1;33m)\u001b[0m\u001b[1;33m\u001b[0m\u001b[1;33m\u001b[0m\u001b[0m\n\u001b[0m\u001b[0;32m    321\u001b[0m     \u001b[1;32mif\u001b[0m \u001b[0mdisplay_id\u001b[0m\u001b[1;33m:\u001b[0m\u001b[1;33m\u001b[0m\u001b[1;33m\u001b[0m\u001b[0m\n\u001b[0;32m    322\u001b[0m         \u001b[1;32mreturn\u001b[0m \u001b[0mDisplayHandle\u001b[0m\u001b[1;33m(\u001b[0m\u001b[0mdisplay_id\u001b[0m\u001b[1;33m)\u001b[0m\u001b[1;33m\u001b[0m\u001b[1;33m\u001b[0m\u001b[0m\n",
      "\u001b[1;32mC:\\ProgramData\\Anaconda3\\lib\\site-packages\\IPython\\core\\display.py\u001b[0m in \u001b[0;36mpublish_display_data\u001b[1;34m(data, metadata, source, transient, **kwargs)\u001b[0m\n\u001b[0;32m    117\u001b[0m         \u001b[0mkwargs\u001b[0m\u001b[1;33m[\u001b[0m\u001b[1;34m'transient'\u001b[0m\u001b[1;33m]\u001b[0m \u001b[1;33m=\u001b[0m \u001b[0mtransient\u001b[0m\u001b[1;33m\u001b[0m\u001b[1;33m\u001b[0m\u001b[0m\n\u001b[0;32m    118\u001b[0m \u001b[1;33m\u001b[0m\u001b[0m\n\u001b[1;32m--> 119\u001b[1;33m     display_pub.publish(\n\u001b[0m\u001b[0;32m    120\u001b[0m         \u001b[0mdata\u001b[0m\u001b[1;33m=\u001b[0m\u001b[0mdata\u001b[0m\u001b[1;33m,\u001b[0m\u001b[1;33m\u001b[0m\u001b[1;33m\u001b[0m\u001b[0m\n\u001b[0;32m    121\u001b[0m         \u001b[0mmetadata\u001b[0m\u001b[1;33m=\u001b[0m\u001b[0mmetadata\u001b[0m\u001b[1;33m,\u001b[0m\u001b[1;33m\u001b[0m\u001b[1;33m\u001b[0m\u001b[0m\n",
      "\u001b[1;31mTypeError\u001b[0m: publish() got an unexpected keyword argument 'sep'"
     ]
    }
   ],
   "source": [
    "coffe_price_df = pd.read_csv(file_csv)\n",
    "display(coffe_price_df,  )"
   ]
  },
  {
   "cell_type": "code",
   "execution_count": 48,
   "metadata": {},
   "outputs": [
    {
     "ename": "TypeError",
     "evalue": "publish() got an unexpected keyword argument 'sep'",
     "output_type": "error",
     "traceback": [
      "\u001b[1;31m---------------------------------------------------------------------------\u001b[0m",
      "\u001b[1;31mTypeError\u001b[0m                                 Traceback (most recent call last)",
      "\u001b[1;32m<ipython-input-48-edfa66febfbe>\u001b[0m in \u001b[0;36m<module>\u001b[1;34m\u001b[0m\n\u001b[1;32m----> 1\u001b[1;33m \u001b[0mdisplay\u001b[0m\u001b[1;33m(\u001b[0m\u001b[0mcoffe_price_df\u001b[0m\u001b[1;33m,\u001b[0m  \u001b[0msep\u001b[0m\u001b[1;33m=\u001b[0m\u001b[1;34mr'\\t'\u001b[0m\u001b[1;33m,\u001b[0m \u001b[0mengine\u001b[0m\u001b[1;33m=\u001b[0m\u001b[1;34m'python'\u001b[0m\u001b[1;33m)\u001b[0m\u001b[1;33m\u001b[0m\u001b[1;33m\u001b[0m\u001b[0m\n\u001b[0m",
      "\u001b[1;32mC:\\ProgramData\\Anaconda3\\lib\\site-packages\\IPython\\core\\display.py\u001b[0m in \u001b[0;36mdisplay\u001b[1;34m(include, exclude, metadata, transient, display_id, *objs, **kwargs)\u001b[0m\n\u001b[0;32m    318\u001b[0m                 \u001b[1;31m# kwarg-specified metadata gets precedence\u001b[0m\u001b[1;33m\u001b[0m\u001b[1;33m\u001b[0m\u001b[1;33m\u001b[0m\u001b[0m\n\u001b[0;32m    319\u001b[0m                 \u001b[0m_merge\u001b[0m\u001b[1;33m(\u001b[0m\u001b[0mmd_dict\u001b[0m\u001b[1;33m,\u001b[0m \u001b[0mmetadata\u001b[0m\u001b[1;33m)\u001b[0m\u001b[1;33m\u001b[0m\u001b[1;33m\u001b[0m\u001b[0m\n\u001b[1;32m--> 320\u001b[1;33m             \u001b[0mpublish_display_data\u001b[0m\u001b[1;33m(\u001b[0m\u001b[0mdata\u001b[0m\u001b[1;33m=\u001b[0m\u001b[0mformat_dict\u001b[0m\u001b[1;33m,\u001b[0m \u001b[0mmetadata\u001b[0m\u001b[1;33m=\u001b[0m\u001b[0mmd_dict\u001b[0m\u001b[1;33m,\u001b[0m \u001b[1;33m**\u001b[0m\u001b[0mkwargs\u001b[0m\u001b[1;33m)\u001b[0m\u001b[1;33m\u001b[0m\u001b[1;33m\u001b[0m\u001b[0m\n\u001b[0m\u001b[0;32m    321\u001b[0m     \u001b[1;32mif\u001b[0m \u001b[0mdisplay_id\u001b[0m\u001b[1;33m:\u001b[0m\u001b[1;33m\u001b[0m\u001b[1;33m\u001b[0m\u001b[0m\n\u001b[0;32m    322\u001b[0m         \u001b[1;32mreturn\u001b[0m \u001b[0mDisplayHandle\u001b[0m\u001b[1;33m(\u001b[0m\u001b[0mdisplay_id\u001b[0m\u001b[1;33m)\u001b[0m\u001b[1;33m\u001b[0m\u001b[1;33m\u001b[0m\u001b[0m\n",
      "\u001b[1;32mC:\\ProgramData\\Anaconda3\\lib\\site-packages\\IPython\\core\\display.py\u001b[0m in \u001b[0;36mpublish_display_data\u001b[1;34m(data, metadata, source, transient, **kwargs)\u001b[0m\n\u001b[0;32m    117\u001b[0m         \u001b[0mkwargs\u001b[0m\u001b[1;33m[\u001b[0m\u001b[1;34m'transient'\u001b[0m\u001b[1;33m]\u001b[0m \u001b[1;33m=\u001b[0m \u001b[0mtransient\u001b[0m\u001b[1;33m\u001b[0m\u001b[1;33m\u001b[0m\u001b[0m\n\u001b[0;32m    118\u001b[0m \u001b[1;33m\u001b[0m\u001b[0m\n\u001b[1;32m--> 119\u001b[1;33m     display_pub.publish(\n\u001b[0m\u001b[0;32m    120\u001b[0m         \u001b[0mdata\u001b[0m\u001b[1;33m=\u001b[0m\u001b[0mdata\u001b[0m\u001b[1;33m,\u001b[0m\u001b[1;33m\u001b[0m\u001b[1;33m\u001b[0m\u001b[0m\n\u001b[0;32m    121\u001b[0m         \u001b[0mmetadata\u001b[0m\u001b[1;33m=\u001b[0m\u001b[0mmetadata\u001b[0m\u001b[1;33m,\u001b[0m\u001b[1;33m\u001b[0m\u001b[1;33m\u001b[0m\u001b[0m\n",
      "\u001b[1;31mTypeError\u001b[0m: publish() got an unexpected keyword argument 'sep'"
     ]
    }
   ],
   "source": [
    "display(coffe_price_df,  sep=r'\\t', engine='python')"
   ]
  },
  {
   "cell_type": "code",
   "execution_count": null,
   "metadata": {},
   "outputs": [],
   "source": []
  },
  {
   "cell_type": "code",
   "execution_count": null,
   "metadata": {},
   "outputs": [],
   "source": []
  },
  {
   "cell_type": "code",
   "execution_count": null,
   "metadata": {},
   "outputs": [],
   "source": []
  },
  {
   "cell_type": "code",
   "execution_count": null,
   "metadata": {},
   "outputs": [],
   "source": []
  },
  {
   "cell_type": "code",
   "execution_count": null,
   "metadata": {},
   "outputs": [],
   "source": []
  }
 ],
 "metadata": {
  "kernelspec": {
   "display_name": "Python 3",
   "language": "python",
   "name": "python3"
  },
  "language_info": {
   "codemirror_mode": {
    "name": "ipython",
    "version": 3
   },
   "file_extension": ".py",
   "mimetype": "text/x-python",
   "name": "python",
   "nbconvert_exporter": "python",
   "pygments_lexer": "ipython3",
   "version": "3.8.5"
  }
 },
 "nbformat": 4,
 "nbformat_minor": 4
}
