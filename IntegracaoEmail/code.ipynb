{
 "cells": [
  {
   "cell_type": "code",
   "execution_count": 63,
   "metadata": {},
   "outputs": [],
   "source": [
    "import pandas as pd \n",
    "import yagmail\n",
    "from tqdm import tqdm"
   ]
  },
  {
   "cell_type": "code",
   "execution_count": 64,
   "metadata": {
    "scrolled": false
   },
   "outputs": [
    {
     "data": {
      "text/html": [
       "<div>\n",
       "<style scoped>\n",
       "    .dataframe tbody tr th:only-of-type {\n",
       "        vertical-align: middle;\n",
       "    }\n",
       "\n",
       "    .dataframe tbody tr th {\n",
       "        vertical-align: top;\n",
       "    }\n",
       "\n",
       "    .dataframe thead th {\n",
       "        text-align: right;\n",
       "    }\n",
       "</style>\n",
       "<table border=\"1\" class=\"dataframe\">\n",
       "  <thead>\n",
       "    <tr style=\"text-align: right;\">\n",
       "      <th></th>\n",
       "      <th>Gerente</th>\n",
       "      <th>Email</th>\n",
       "      <th>Relatório</th>\n",
       "    </tr>\n",
       "  </thead>\n",
       "  <tbody>\n",
       "    <tr>\n",
       "      <th>0</th>\n",
       "      <td>Lira</td>\n",
       "      <td>anacarolinasantosovidio+1@gmail.com</td>\n",
       "      <td>Vendas</td>\n",
       "    </tr>\n",
       "    <tr>\n",
       "      <th>1</th>\n",
       "      <td>Júlia</td>\n",
       "      <td>anacarolinasantosovidio+2@gmail.com</td>\n",
       "      <td>Produção</td>\n",
       "    </tr>\n",
       "    <tr>\n",
       "      <th>2</th>\n",
       "      <td>José</td>\n",
       "      <td>anacarolinasantosovidio+3@gmail.com</td>\n",
       "      <td>Manutenção</td>\n",
       "    </tr>\n",
       "    <tr>\n",
       "      <th>3</th>\n",
       "      <td>Gustavo</td>\n",
       "      <td>anacarolinasantosovidio+4@gmail.com</td>\n",
       "      <td>Operações</td>\n",
       "    </tr>\n",
       "    <tr>\n",
       "      <th>4</th>\n",
       "      <td>Ana</td>\n",
       "      <td>anacarolinasantosovidio+5@gmail.com</td>\n",
       "      <td>Logísticas</td>\n",
       "    </tr>\n",
       "    <tr>\n",
       "      <th>5</th>\n",
       "      <td>Paula</td>\n",
       "      <td>anacarolinasantosovidio+6@gmail.com</td>\n",
       "      <td>Financeiro</td>\n",
       "    </tr>\n",
       "    <tr>\n",
       "      <th>6</th>\n",
       "      <td>Maria</td>\n",
       "      <td>anacarolinasantosovidio+7@gmail.com</td>\n",
       "      <td>Marketing</td>\n",
       "    </tr>\n",
       "  </tbody>\n",
       "</table>\n",
       "</div>"
      ],
      "text/plain": [
       "   Gerente                                Email   Relatório\n",
       "0     Lira  anacarolinasantosovidio+1@gmail.com      Vendas\n",
       "1    Júlia  anacarolinasantosovidio+2@gmail.com    Produção\n",
       "2     José  anacarolinasantosovidio+3@gmail.com  Manutenção\n",
       "3  Gustavo  anacarolinasantosovidio+4@gmail.com   Operações\n",
       "4      Ana  anacarolinasantosovidio+5@gmail.com  Logísticas\n",
       "5    Paula  anacarolinasantosovidio+6@gmail.com  Financeiro\n",
       "6    Maria  anacarolinasantosovidio+7@gmail.com   Marketing"
      ]
     },
     "metadata": {},
     "output_type": "display_data"
    }
   ],
   "source": [
    "email_gerentes = pd.read_excel(r'data/Emails.xlsx')\n",
    "display(email_gerentes)"
   ]
  },
  {
   "cell_type": "markdown",
   "metadata": {},
   "source": [
    "-----------\n",
    "**Escrevendo uma lista de texto em HTML assumindo que os nomes devem ser trocados**"
   ]
  },
  {
   "cell_type": "code",
   "execution_count": 65,
   "metadata": {},
   "outputs": [],
   "source": [
    "bodies_text = []\n",
    "\n",
    "for i in range(len(email_gerentes)):\n",
    "    bory =\\\n",
    "        f'''\n",
    "            <h1 style=\"color:darkred\"><font size=\"3\">Relatório de {email_gerentes.loc[i]['Relatório']} </font></h1>\n",
    "            Prezado(a) {email_gerentes.loc[i]['Gerente']}.,\n",
    "                Em anexo, está o relatório relacionado à sua área. \n",
    "                \n",
    "                Por gentileza, <b>em caso de dúvidas</b> envie uma mensagem clicando neste link:\n",
    "                <a href=\"mailto:anacarolina.ovidio@estudante.ufjf.br\">  Link para o email </a>\n",
    "                \n",
    "                Atenciosamente, \n",
    "                Ana Carolina dos Santos Ovídio\n",
    "        '''\n",
    "    bodies_text.append(bory)"
   ]
  },
  {
   "cell_type": "code",
   "execution_count": 66,
   "metadata": {},
   "outputs": [],
   "source": [
    "sender = yagmail.SMTP(user='anacarolina.ovidio@estudante.ufjf.br', password='A02c1937')"
   ]
  },
  {
   "cell_type": "code",
   "execution_count": 67,
   "metadata": {},
   "outputs": [
    {
     "name": "stderr",
     "output_type": "stream",
     "text": [
      "100%|████████████████████████████████████████████████████████████████████████████████████| 7/7 [00:14<00:00,  2.05s/it]\n"
     ]
    }
   ],
   "source": [
    "for i in tqdm(range(len(email_gerentes)), position=0, leave=True):\n",
    "    sender.send(to=email_gerentes.loc[i]['Email'], subject= 'Relatório Semanal', contents=bodies_text[i], \n",
    "                attachments='data/{}.xlsx'.format(email_gerentes.loc[i]['Relatório']))"
   ]
  }
 ],
 "metadata": {
  "kernelspec": {
   "display_name": "Python 3",
   "language": "python",
   "name": "python3"
  },
  "language_info": {
   "codemirror_mode": {
    "name": "ipython",
    "version": 3
   },
   "file_extension": ".py",
   "mimetype": "text/x-python",
   "name": "python",
   "nbconvert_exporter": "python",
   "pygments_lexer": "ipython3",
   "version": "3.8.5"
  }
 },
 "nbformat": 4,
 "nbformat_minor": 4
}
