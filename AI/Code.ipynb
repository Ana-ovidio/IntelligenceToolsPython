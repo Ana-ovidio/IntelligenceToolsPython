{
 "cells": [
  {
   "cell_type": "markdown",
   "id": "c0f23067",
   "metadata": {},
   "source": [
    "# **Data Science + AI**\n",
    "\n",
    "Utilizaremos dois métodos de previsão: **linear regression** e **random forecast**\n",
    "\n",
    "O desafio é uma forma previsível pois há forte correlação entre os elementos. Nesse caso, não há envolvimento de clusting ou de \n",
    "relações sociais cuja modelagem não da para ser avaliada utilizando as estatísticas mais convencionais. \n",
    "\n",
    "----------------------\n",
    "\n",
    "## **Desafio**\n",
    "\n",
    "Prever as vendas (**milhões**) de uma empresa através dos investimentos em TV; jornal e; rádio (**mil**). \n",
    "\n",
    "**PASSO A PASSO PARA CONSTRUÇÃO DE UMA INTELIGÊNCIA ARTIFICIAL:**\n",
    "\n",
    "        1) Entendimento do desafio. Tal etapa nos dinecionará a conclusões sobre os resultados (90% é bom ou ruim? Depende).\n",
    "        2) Importação da base de dados + Tratamento de dados (Análise).\n",
    "        3) Análise exploratória (Observar as correlações).\n",
    "        4) Modelagem. \n",
    "        5) Interpretação. \n",
    "        "
   ]
  },
  {
   "cell_type": "code",
   "execution_count": 15,
   "id": "2f917431",
   "metadata": {},
   "outputs": [],
   "source": [
    "import pandas as pd # Biblioteca relacionada à análise de dados\n",
    "import seaborn as sns # Importação de gráficos\n",
    "import matplotlib.pyplot as plt #Importação de gráficos \n",
    "from sklearn.model_selection import train_test_split # AI\n",
    "from sklearn import metrics # AI"
   ]
  },
  {
   "cell_type": "code",
   "execution_count": 8,
   "id": "cec58c5e",
   "metadata": {},
   "outputs": [
    {
     "data": {
      "text/html": [
       "<div>\n",
       "<style scoped>\n",
       "    .dataframe tbody tr th:only-of-type {\n",
       "        vertical-align: middle;\n",
       "    }\n",
       "\n",
       "    .dataframe tbody tr th {\n",
       "        vertical-align: top;\n",
       "    }\n",
       "\n",
       "    .dataframe thead th {\n",
       "        text-align: right;\n",
       "    }\n",
       "</style>\n",
       "<table border=\"1\" class=\"dataframe\">\n",
       "  <thead>\n",
       "    <tr style=\"text-align: right;\">\n",
       "      <th></th>\n",
       "      <th>TV</th>\n",
       "      <th>Radio</th>\n",
       "      <th>Jornal</th>\n",
       "      <th>Vendas</th>\n",
       "    </tr>\n",
       "  </thead>\n",
       "  <tbody>\n",
       "    <tr>\n",
       "      <th>0</th>\n",
       "      <td>230.1</td>\n",
       "      <td>37.8</td>\n",
       "      <td>69.2</td>\n",
       "      <td>22.1</td>\n",
       "    </tr>\n",
       "    <tr>\n",
       "      <th>1</th>\n",
       "      <td>44.5</td>\n",
       "      <td>39.3</td>\n",
       "      <td>45.1</td>\n",
       "      <td>10.4</td>\n",
       "    </tr>\n",
       "    <tr>\n",
       "      <th>2</th>\n",
       "      <td>17.2</td>\n",
       "      <td>45.9</td>\n",
       "      <td>69.3</td>\n",
       "      <td>12.0</td>\n",
       "    </tr>\n",
       "    <tr>\n",
       "      <th>3</th>\n",
       "      <td>151.5</td>\n",
       "      <td>41.3</td>\n",
       "      <td>58.5</td>\n",
       "      <td>16.5</td>\n",
       "    </tr>\n",
       "    <tr>\n",
       "      <th>4</th>\n",
       "      <td>180.8</td>\n",
       "      <td>10.8</td>\n",
       "      <td>58.4</td>\n",
       "      <td>17.9</td>\n",
       "    </tr>\n",
       "    <tr>\n",
       "      <th>...</th>\n",
       "      <td>...</td>\n",
       "      <td>...</td>\n",
       "      <td>...</td>\n",
       "      <td>...</td>\n",
       "    </tr>\n",
       "    <tr>\n",
       "      <th>195</th>\n",
       "      <td>38.2</td>\n",
       "      <td>3.7</td>\n",
       "      <td>13.8</td>\n",
       "      <td>7.6</td>\n",
       "    </tr>\n",
       "    <tr>\n",
       "      <th>196</th>\n",
       "      <td>94.2</td>\n",
       "      <td>4.9</td>\n",
       "      <td>8.1</td>\n",
       "      <td>14.0</td>\n",
       "    </tr>\n",
       "    <tr>\n",
       "      <th>197</th>\n",
       "      <td>177.0</td>\n",
       "      <td>9.3</td>\n",
       "      <td>6.4</td>\n",
       "      <td>14.8</td>\n",
       "    </tr>\n",
       "    <tr>\n",
       "      <th>198</th>\n",
       "      <td>283.6</td>\n",
       "      <td>42.0</td>\n",
       "      <td>66.2</td>\n",
       "      <td>25.5</td>\n",
       "    </tr>\n",
       "    <tr>\n",
       "      <th>199</th>\n",
       "      <td>232.1</td>\n",
       "      <td>8.6</td>\n",
       "      <td>8.7</td>\n",
       "      <td>18.4</td>\n",
       "    </tr>\n",
       "  </tbody>\n",
       "</table>\n",
       "<p>200 rows × 4 columns</p>\n",
       "</div>"
      ],
      "text/plain": [
       "        TV  Radio  Jornal  Vendas\n",
       "0    230.1   37.8    69.2    22.1\n",
       "1     44.5   39.3    45.1    10.4\n",
       "2     17.2   45.9    69.3    12.0\n",
       "3    151.5   41.3    58.5    16.5\n",
       "4    180.8   10.8    58.4    17.9\n",
       "..     ...    ...     ...     ...\n",
       "195   38.2    3.7    13.8     7.6\n",
       "196   94.2    4.9     8.1    14.0\n",
       "197  177.0    9.3     6.4    14.8\n",
       "198  283.6   42.0    66.2    25.5\n",
       "199  232.1    8.6     8.7    18.4\n",
       "\n",
       "[200 rows x 4 columns]"
      ]
     },
     "execution_count": 8,
     "metadata": {},
     "output_type": "execute_result"
    }
   ],
   "source": [
    "frame = pd.read_csv(\"advertising.csv\")\n",
    "frame"
   ]
  },
  {
   "cell_type": "code",
   "execution_count": 9,
   "id": "559e79d2",
   "metadata": {},
   "outputs": [
    {
     "name": "stdout",
     "output_type": "stream",
     "text": [
      "<class 'pandas.core.frame.DataFrame'>\n",
      "RangeIndex: 200 entries, 0 to 199\n",
      "Data columns (total 4 columns):\n",
      " #   Column  Non-Null Count  Dtype  \n",
      "---  ------  --------------  -----  \n",
      " 0   TV      200 non-null    float64\n",
      " 1   Radio   200 non-null    float64\n",
      " 2   Jornal  200 non-null    float64\n",
      " 3   Vendas  200 non-null    float64\n",
      "dtypes: float64(4)\n",
      "memory usage: 6.4 KB\n"
     ]
    }
   ],
   "source": [
    "frame.info()"
   ]
  },
  {
   "cell_type": "markdown",
   "id": "83dcb835",
   "metadata": {},
   "source": [
    "## **Visualização do comportamento de cada variável**\n",
    "\n",
    "** Correlação entre duas variáveis **\n",
    "\n",
    "    A    B  ---- Ambas as variáveis se relacionam muito bem. Enquanto uma sobe, a outra também tende a aumentar (mesmo que não \n",
    "    2    4       seja proporcional). Logo, elas estão bem correlacionadas. \n",
    "    5    8       \n",
    "    7   10\n",
    "    \n",
    "A correlação é resitrita em um intervalo de [-1; 1]"
   ]
  },
  {
   "cell_type": "code",
   "execution_count": 11,
   "id": "97669ff8",
   "metadata": {},
   "outputs": [
    {
     "data": {
      "image/png": "[encoded data removed]",
      "text/plain": [
       "<Figure size 432x288 with 2 Axes>"
      ]
     },
     "metadata": {
      "needs_background": "light"
     },
     "output_type": "display_data"
    }
   ],
   "source": [
    "sns.heatmap(frame.corr(), annot=True, cmap=\"YlGnBu\")\n",
    "plt.show()"
   ]
  },
  {
   "cell_type": "markdown",
   "id": "6d03baad",
   "metadata": {},
   "source": [
    "**Quanto maior o investimento em TV, maior serão as arrecadações das vendas, uma vez que a correlação entre elas são muito fortes.**"
   ]
  },
  {
   "cell_type": "markdown",
   "id": "11990ef0",
   "metadata": {},
   "source": [
    "# **AI**\n",
    "\n",
    "São duas estapas envolvidas na contrução de uma inteligência artificial:\n",
    "\n",
    "    1°) Base de treino - Separo alguns dados que eu irei utilizar para a contrução da AI. De modo que ela compreenda como deve realizar a previsão. \n",
    "    \n",
    "    2°) Base de teste - Valores cujas variáveis independentes serão dadas como argumento e iremos comparar as saidas com os valores reais.\n",
    "\n",
    "***X*** = Investimentos (O que usamos para fazer previsão)\n",
    "\n",
    "***Y*** = Vendas (O que queremos prever)\n",
    "    "
   ]
  },
  {
   "cell_type": "code",
   "execution_count": 13,
   "id": "c043f1c1",
   "metadata": {},
   "outputs": [],
   "source": [
    "y = frame['Vendas']\n",
    "x = frame[['TV', 'Jornal', 'Radio']]"
   ]
  },
  {
   "cell_type": "code",
   "execution_count": 19,
   "id": "2872fef0",
   "metadata": {},
   "outputs": [],
   "source": [
    "# Da nossa base original, o algoritmo separa 20% para teste e 80 % para treino (default) de forma aleatória.\n",
    "# Para mudar a proporação: teste_size = porcentagem_para_teste\n",
    "# random_state =  Gerar apenas uma vez os valores aleatórios\n",
    "\n",
    "x_train, x_test, y_train, y_test = train_test_split(x,y,random_state=1) "
   ]
  },
  {
   "cell_type": "code",
   "execution_count": 20,
   "id": "e17471c5",
   "metadata": {},
   "outputs": [],
   "source": [
    "from sklearn.linear_model import LinearRegression\n",
    "from sklearn.ensemble import RandomForestRegressor"
   ]
  },
  {
   "cell_type": "code",
   "execution_count": 22,
   "id": "62bdd5bc",
   "metadata": {
    "scrolled": true
   },
   "outputs": [
    {
     "data": {
      "text/plain": [
       "RandomForestRegressor()"
      ]
     },
     "execution_count": 22,
     "metadata": {},
     "output_type": "execute_result"
    }
   ],
   "source": [
    "#Cria as inteligências artificiais - declara duas variáveis que receberão as funções de regressão linear e de árvore de decisão.\n",
    "model_linear_regressor = LinearRegression()\n",
    "model_random_forecast = RandomForestRegressor()\n",
    "\n",
    "#Treina \n",
    "model_linear_regressor.fit(x_train,y_train)\n",
    "model_random_forecast.fit(x_train,y_train)"
   ]
  },
  {
   "cell_type": "code",
   "execution_count": 24,
   "id": "b78ecc54",
   "metadata": {},
   "outputs": [],
   "source": [
    "forecast_linear_regressor = model_linear_regressor.predict(x_test)\n",
    "forecast_random_forecast = model_random_forecast.predict(x_test)"
   ]
  },
  {
   "cell_type": "markdown",
   "id": "3bc10e08",
   "metadata": {},
   "source": [
    "**Teste do R² será uma forma de avaliarmos o quão próximas as estimativas estão dos valores reais.***"
   ]
  },
  {
   "cell_type": "code",
   "execution_count": 26,
   "id": "b2ef8fc3",
   "metadata": {},
   "outputs": [
    {
     "data": {
      "text/plain": [
       "0.904891724136168"
      ]
     },
     "execution_count": 26,
     "metadata": {},
     "output_type": "execute_result"
    }
   ],
   "source": [
    "metrics.r2_score(y_test,forecast_linear_regressor)"
   ]
  },
  {
   "cell_type": "code",
   "execution_count": 27,
   "id": "03f0d2b1",
   "metadata": {},
   "outputs": [
    {
     "data": {
      "text/plain": [
       "0.9652554193882689"
      ]
     },
     "execution_count": 27,
     "metadata": {},
     "output_type": "execute_result"
    }
   ],
   "source": [
    "metrics.r2_score(y_test,forecast_random_forecast)"
   ]
  },
  {
   "cell_type": "markdown",
   "id": "c42b96d5",
   "metadata": {},
   "source": [
    "## **Estimar nova previsão**\n",
    "\n",
    "Iremos utilizar a àrvore de decisões, uma vez que ela apresentou estimativas mais precisas. "
   ]
  },
  {
   "cell_type": "code",
   "execution_count": 30,
   "id": "0b6c3481",
   "metadata": {},
   "outputs": [],
   "source": [
    "new_data = pd.read_csv('novos.csv')\n",
    "\n",
    "estimates = model_random_forecast.predict(new_data)\n",
    "new_data ['Estimativas de vendas'] = estimates\n",
    "\n",
    "ne"
   ]
  }
 ],
 "metadata": {
  "kernelspec": {
   "display_name": "Python 3",
   "language": "python",
   "name": "python3"
  },
  "language_info": {
   "codemirror_mode": {
    "name": "ipython",
    "version": 3
   },
   "file_extension": ".py",
   "mimetype": "text/x-python",
   "name": "python",
   "nbconvert_exporter": "python",
   "pygments_lexer": "ipython3",
   "version": "3.8.8"
  }
 },
 "nbformat": 4,
 "nbformat_minor": 5
}
